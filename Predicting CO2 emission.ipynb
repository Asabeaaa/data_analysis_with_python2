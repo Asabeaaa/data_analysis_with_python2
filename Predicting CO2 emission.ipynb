{
 "cells": [
  {
   "cell_type": "code",
   "execution_count": 32,
   "metadata": {},
   "outputs": [
    {
     "name": "stdout",
     "output_type": "stream",
     "text": [
      "Intercept: 264.8688828549873\n",
      "Coefficients: [ 142.39127028 -276.9220174  -108.44306266  462.27055046 -228.7791586 ]\n",
      "Root mean square error: 21.6076716947388\n"
     ]
    },
    {
     "data": {
      "image/png": "[encoded data removed]",
      "text/plain": [
       "<Figure size 432x288 with 1 Axes>"
      ]
     },
     "metadata": {
      "needs_background": "light"
     },
     "output_type": "display_data"
    }
   ],
   "source": [
    "#predicting how much CO2 a car will emit based on it's engine-size amd fuel consumption\n",
    "import pandas as pd \n",
    "from sklearn.linear_model import LinearRegression\n",
    "import seaborn as sns\n",
    "import matplotlib.pyplot as plt\n",
    "import sklearn\n",
    "import math\n",
    "\n",
    "csv_path='Documents\\FuelConsumption.csv'\n",
    "df=pd.read_csv(csv_path)\n",
    "df.to_csv('Documents\\FuelConsumption2.csv')\n",
    "\n",
    "#print(df.info())\n",
    "\n",
    "#value count in fuel type column\n",
    "fuel_type_counts=df['FUELTYPE'].value_counts()\n",
    "y=fuel_type_counts.rename_axis('FUELTYPE').to_frame('value_counts')\n",
    "#print(y)\n",
    "\n",
    "\n",
    "#turning categorical variable into quantitative variable\n",
    "dummy=pd.get_dummies(df['FUELTYPE'])\n",
    "df=pd.concat([df,dummy],axis=1)\n",
    "df.to_csv('Documents\\FuelConsumption2.csv')\n",
    "\n",
    "#dropping some of the columns of the categorical variables\n",
    "df.drop('D', axis=1, inplace=True)\n",
    "df.drop('Z', axis=1, inplace=True)\n",
    "df.drop('E', axis=1, inplace=True)\n",
    "\n",
    "# rename the X column\n",
    "df.rename(columns={'X': 'Fuel Type'}, inplace=True)\n",
    "\n",
    "#Normalization\n",
    "df['ENGINESIZE']=df['ENGINESIZE']/df['ENGINESIZE'].max()\n",
    "df['FUELCONSUMPTION_CITY']=df['FUELCONSUMPTION_CITY']/df['FUELCONSUMPTION_CITY'].max()\n",
    "df['FUELCONSUMPTION_HWY']=df['FUELCONSUMPTION_HWY']/df['FUELCONSUMPTION_HWY'].max()\n",
    "df['FUELCONSUMPTION_COMB']=df['FUELCONSUMPTION_COMB']/df['FUELCONSUMPTION_COMB'].max()\n",
    "df['FUELCONSUMPTION_COMB_MPG']=df['FUELCONSUMPTION_COMB_MPG']/df['FUELCONSUMPTION_COMB_MPG'].max()\n",
    "df.to_csv('Documents\\FuelConsumption2.csv')\n",
    "\n",
    "\n",
    "#regression plots for each independent variable\n",
    "#checking strength of correlation\n",
    "#sns.regplot(x='ENGINESIZE',y='CO2EMISSIONS',data=df)\n",
    "#plt.ylim(0,)\n",
    "\n",
    "#sns.regplot(x='FUELCONSUMPTION_CITY',y='CO2EMISSIONS',data=df)\n",
    "#plt.ylim(0,)\n",
    "\n",
    "#sns.regplot(x='FUELCONSUMPTION_HWY',y='CO2EMISSIONS',data=df)\n",
    "#plt.ylim(0,)\n",
    "\n",
    "#sns.regplot(x='FUELCONSUMPTION_COMB',y='CO2EMISSIONS',data=df)\n",
    "#plt.ylim(0,)\n",
    "\n",
    "#sns.regplot(x='FUELCONSUMPTION_COMB_MPG',y='CO2EMISSIONS',data=df)\n",
    "#plt.ylim(0,)\n",
    "\n",
    "#sns.regplot(x='Fuel Type',y='CO2EMISSIONS',data=df)\n",
    "#plt.ylim(0,) #weak correlation\n",
    "\n",
    "#Linear Regression\n",
    "lm=LinearRegression()\n",
    "X=df[['ENGINESIZE','FUELCONSUMPTION_CITY','FUELCONSUMPTION_HWY','FUELCONSUMPTION_COMB','FUELCONSUMPTION_COMB_MPG']]\n",
    "Y=df['CO2EMISSIONS']\n",
    "lm.fit(X,Y)\n",
    "Yhat=lm.predict(X)\n",
    "\n",
    "#finding the intercept\n",
    "print('Intercept:',lm.intercept_)\n",
    "\n",
    "#finding coefficients\n",
    "print('Coefficients:',lm.coef_)\n",
    "\n",
    "#model evaluation\n",
    "#distribution plot\n",
    "ax1 = sns.distplot(Y, hist=False, color=\"r\", label=\"Actual Value\")\n",
    "sns.distplot(Yhat, hist=False, color=\"b\", label=\"Fitted Values\" , ax=ax1)\n",
    "\n",
    "#root mean square error\n",
    "actual = df['CO2EMISSIONS']\n",
    "predicted =Yhat\n",
    "mse = sklearn.metrics.mean_squared_error(actual, predicted)\n",
    "rmse = math.sqrt(mse)\n",
    "print('Root mean square error:',rmse)\n",
    "\n",
    "\n",
    "\n",
    "\n",
    "\n",
    "\n"
   ]
  },
  {
   "cell_type": "code",
   "execution_count": null,
   "metadata": {},
   "outputs": [],
   "source": []
  },
  {
   "cell_type": "code",
   "execution_count": null,
   "metadata": {},
   "outputs": [],
   "source": []
  }
 ],
 "metadata": {
  "kernelspec": {
   "display_name": "Python 3",
   "language": "python",
   "name": "python3"
  },
  "language_info": {
   "codemirror_mode": {
    "name": "ipython",
    "version": 3
   },
   "file_extension": ".py",
   "mimetype": "text/x-python",
   "name": "python",
   "nbconvert_exporter": "python",
   "pygments_lexer": "ipython3",
   "version": "3.8.3"
  }
 },
 "nbformat": 4,
 "nbformat_minor": 4
}
